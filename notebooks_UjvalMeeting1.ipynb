{
  "metadata": {
    "language_info": {
      "codemirror_mode": {
        "name": "python",
        "version": 3
      },
      "file_extension": ".py",
      "mimetype": "text/x-python",
      "name": "python",
      "nbconvert_exporter": "python",
      "pygments_lexer": "ipython3",
      "version": "3.8"
    },
    "kernelspec": {
      "name": "python",
      "display_name": "Python (Pyodide)",
      "language": "python"
    }
  },
  "nbformat_minor": 4,
  "nbformat": 4,
  "cells": [
    {
      "cell_type": "markdown",
      "source": "# Introductory Python with Ujval (12/26/2022)",
      "metadata": {}
    },
    {
      "cell_type": "markdown",
      "source": "### Exercise #1 - the print() function",
      "metadata": {}
    },
    {
      "cell_type": "markdown",
      "source": "Print the name of your favorite food",
      "metadata": {}
    },
    {
      "cell_type": "code",
      "source": "print(\"Biriyani\")",
      "metadata": {
        "trusted": true
      },
      "execution_count": 1,
      "outputs": [
        {
          "name": "stdout",
          "text": "Biriyani\n",
          "output_type": "stream"
        }
      ]
    },
    {
      "cell_type": "markdown",
      "source": "***",
      "metadata": {}
    },
    {
      "cell_type": "markdown",
      "source": "### Exercise #2 - Variables",
      "metadata": {}
    },
    {
      "cell_type": "markdown",
      "source": "Create a variable named __favorite_food__ and assign it with the name of your favorite food. Then print that variable with the text __\"My favorite food is__ variable __, it's great!\"__",
      "metadata": {}
    },
    {
      "cell_type": "code",
      "source": "favorite_food = \"Biriyani\"\nprint(\"My favorite food is \" + favorite_food,\"It's great.\")",
      "metadata": {
        "trusted": true
      },
      "execution_count": 4,
      "outputs": [
        {
          "name": "stdout",
          "text": "My favorite food is Biriyani It's great.\n",
          "output_type": "stream"
        }
      ]
    },
    {
      "cell_type": "markdown",
      "source": "***",
      "metadata": {}
    },
    {
      "cell_type": "markdown",
      "source": "### Exercise #3 - Data Types",
      "metadata": {}
    },
    {
      "cell_type": "markdown",
      "source": "Create a variable named __my_age__ and assign it with your age. Then print out the data type of that variable using __type()__",
      "metadata": {}
    },
    {
      "cell_type": "code",
      "source": "my_age = \"10\"\ntype(my_age)",
      "metadata": {
        "trusted": true
      },
      "execution_count": 7,
      "outputs": [
        {
          "execution_count": 7,
          "output_type": "execute_result",
          "data": {
            "text/plain": "str"
          },
          "metadata": {}
        }
      ]
    },
    {
      "cell_type": "markdown",
      "source": "***",
      "metadata": {}
    },
    {
      "cell_type": "markdown",
      "source": "### Exercise #4 - Data Types contd.",
      "metadata": {}
    },
    {
      "cell_type": "markdown",
      "source": "Print the integer representation of the following string __my_string__",
      "metadata": {}
    },
    {
      "cell_type": "code",
      "source": "my_string = \"58\"\nprint(my_string)",
      "metadata": {
        "tags": [],
        "trusted": true
      },
      "execution_count": 10,
      "outputs": [
        {
          "name": "stdout",
          "text": "58\n",
          "output_type": "stream"
        }
      ]
    },
    {
      "cell_type": "markdown",
      "source": "***",
      "metadata": {}
    },
    {
      "cell_type": "markdown",
      "source": "### Exercise #5 - Lists",
      "metadata": {}
    },
    {
      "cell_type": "markdown",
      "source": "Assign the variable __second_element__ to the second element in the list __lst__ and print it",
      "metadata": {}
    },
    {
      "cell_type": "code",
      "source": "lst = [11, 100, 99, 1000, 999]\nsecond_element = lst[1]\n\nprint(second_element)",
      "metadata": {
        "trusted": true
      },
      "execution_count": 12,
      "outputs": [
        {
          "name": "stdout",
          "text": "100\n",
          "output_type": "stream"
        }
      ]
    },
    {
      "cell_type": "markdown",
      "source": "***",
      "metadata": {}
    },
    {
      "cell_type": "markdown",
      "source": "### Exercise #6 - Lists contd.",
      "metadata": {}
    },
    {
      "cell_type": "markdown",
      "source": "Append an element to the end of the list __gift_list__ and print out the list",
      "metadata": {}
    },
    {
      "cell_type": "code",
      "source": "gift_list = ['socks', 'drone', 'laptop']\n# Type your answer here.\ngift_list.append('car')\n\nprint(gift_list)",
      "metadata": {
        "tags": [],
        "trusted": true
      },
      "execution_count": 13,
      "outputs": [
        {
          "name": "stdout",
          "text": "['socks', 'drone', 'laptop', 'car']\n",
          "output_type": "stream"
        }
      ]
    },
    {
      "cell_type": "markdown",
      "source": "***",
      "metadata": {}
    },
    {
      "cell_type": "markdown",
      "source": "### Exercise #7 - Lists contd.",
      "metadata": {}
    },
    {
      "cell_type": "markdown",
      "source": "Insert a new element in the list __gift_list__ in between \"drone\" and \"laptop\"",
      "metadata": {}
    },
    {
      "cell_type": "code",
      "source": "gift_list = ['socks', 'drone', 'laptop']\n# Type your answer here.\ngift_list.insert(2 ,'car')\n\nprint(gift_list)",
      "metadata": {
        "trusted": true
      },
      "execution_count": 14,
      "outputs": [
        {
          "name": "stdout",
          "text": "['socks', 'drone', 'car', 'laptop']\n",
          "output_type": "stream"
        }
      ]
    },
    {
      "cell_type": "markdown",
      "source": "***",
      "metadata": {}
    },
    {
      "cell_type": "markdown",
      "source": "### Exercise #8 - User input",
      "metadata": {}
    },
    {
      "cell_type": "markdown",
      "source": "Using input() ask for the users name",
      "metadata": {}
    },
    {
      "cell_type": "code",
      "source": "user_input = str(input(\"Please, Enter your name:\"))\n\n",
      "metadata": {
        "trusted": true
      },
      "execution_count": 20,
      "outputs": [
        {
          "output_type": "stream",
          "name": "stdin",
          "text": "Please, Enter your name: Ujval\n"
        }
      ]
    },
    {
      "cell_type": "markdown",
      "source": "***",
      "metadata": {}
    },
    {
      "cell_type": "code",
      "source": "print(\"Hello!, \" + user_input)",
      "metadata": {
        "trusted": true
      },
      "execution_count": 21,
      "outputs": [
        {
          "name": "stdout",
          "text": "Hello!, <Future pending>\n",
          "output_type": "stream"
        }
      ]
    },
    {
      "cell_type": "code",
      "source": "",
      "metadata": {},
      "execution_count": null,
      "outputs": []
    }
  ]
}