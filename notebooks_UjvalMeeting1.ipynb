{
  "metadata": {
    "language_info": {
      "codemirror_mode": {
        "name": "python",
        "version": 3
      },
      "file_extension": ".py",
      "mimetype": "text/x-python",
      "name": "python",
      "nbconvert_exporter": "python",
      "pygments_lexer": "ipython3",
      "version": "3.8"
    },
    "kernelspec": {
      "name": "python",
      "display_name": "Python (Pyodide)",
      "language": "python"
    }
  },
  "nbformat_minor": 4,
  "nbformat": 4,
  "cells": [
    {
      "cell_type": "markdown",
      "source": "# Introductory Python with Ujval (12/26/2022)",
      "metadata": {}
    },
    {
      "cell_type": "markdown",
      "source": "### Exercise #1 - the print() function",
      "metadata": {}
    },
    {
      "cell_type": "markdown",
      "source": "Print the name of your favorite food",
      "metadata": {}
    },
    {
      "cell_type": "code",
      "source": "",
      "metadata": {
        "trusted": true
      },
      "execution_count": null,
      "outputs": []
    },
    {
      "cell_type": "markdown",
      "source": "***",
      "metadata": {}
    },
    {
      "cell_type": "markdown",
      "source": "### Exercise #2 - Variables",
      "metadata": {}
    },
    {
      "cell_type": "markdown",
      "source": "Create a variable named __favorite_food__ and assign it with the name of your favorite food. Then print that variable with the text __\"My favorite food is__ variable __, it's great!\"__",
      "metadata": {}
    },
    {
      "cell_type": "code",
      "source": "",
      "metadata": {},
      "execution_count": null,
      "outputs": []
    },
    {
      "cell_type": "markdown",
      "source": "***",
      "metadata": {}
    },
    {
      "cell_type": "markdown",
      "source": "### Exercise #3 - Data Types",
      "metadata": {}
    },
    {
      "cell_type": "markdown",
      "source": "Create a variable named __my_age__ and assign it with your age. Then print out the data type of that variable using __type()__",
      "metadata": {}
    },
    {
      "cell_type": "code",
      "source": "",
      "metadata": {},
      "execution_count": null,
      "outputs": []
    },
    {
      "cell_type": "markdown",
      "source": "***",
      "metadata": {}
    },
    {
      "cell_type": "markdown",
      "source": "### Exercise #4 - Data Types contd.",
      "metadata": {}
    },
    {
      "cell_type": "markdown",
      "source": "Print the integer representation of the following string __my_string__",
      "metadata": {}
    },
    {
      "cell_type": "code",
      "source": "my_string = \"58\"\n\n# Type your answer here",
      "metadata": {
        "tags": [],
        "trusted": true
      },
      "execution_count": 10,
      "outputs": []
    },
    {
      "cell_type": "markdown",
      "source": "***",
      "metadata": {}
    },
    {
      "cell_type": "markdown",
      "source": "### Exercise #5 - Lists",
      "metadata": {}
    },
    {
      "cell_type": "markdown",
      "source": "Assign the variable __second_element__ to the second element in the list __lst__ and print it",
      "metadata": {}
    },
    {
      "cell_type": "code",
      "source": "lst = [11, 100, 99, 1000, 999]\nsecond_element = #Type answer here\n\nprint(second_element)",
      "metadata": {
        "trusted": true
      },
      "execution_count": 12,
      "outputs": [
        {
          "ename": "<class 'SyntaxError'>",
          "evalue": "invalid syntax (<ipython-input-12-b2fb2f49a781>, line 2)",
          "traceback": [
            "\u001b[0;36m  Cell \u001b[0;32mIn[12], line 2\u001b[0;36m\u001b[0m\n\u001b[0;31m    second_element = #Type answer here\u001b[0m\n\u001b[0m                     ^\u001b[0m\n\u001b[0;31mSyntaxError\u001b[0m\u001b[0;31m:\u001b[0m invalid syntax\n"
          ],
          "output_type": "error"
        }
      ]
    },
    {
      "cell_type": "markdown",
      "source": "***",
      "metadata": {}
    },
    {
      "cell_type": "markdown",
      "source": "### Exercise #6 - Lists contd.",
      "metadata": {}
    },
    {
      "cell_type": "markdown",
      "source": "Append an element to the end of the list __gift_list__ and print out the list",
      "metadata": {}
    },
    {
      "cell_type": "code",
      "source": "gift_list = ['socks', 'drone', 'laptop']\n# Type your answer here.\n\n\nprint(gift_list)",
      "metadata": {
        "tags": []
      },
      "execution_count": null,
      "outputs": [
        {
          "name": "stdout",
          "text": "['socks', 'drone', 'laptop']\n",
          "output_type": "stream"
        }
      ]
    },
    {
      "cell_type": "markdown",
      "source": "***",
      "metadata": {}
    },
    {
      "cell_type": "markdown",
      "source": "### Exercise #7 - Lists contd.",
      "metadata": {}
    },
    {
      "cell_type": "markdown",
      "source": "Insert a new element in the list __gift_list__ in between \"drone\" and \"laptop\"",
      "metadata": {}
    },
    {
      "cell_type": "code",
      "source": "gift_list = ['socks', 'drone', 'laptop']\n# Type your answer here.\n\n\nprint(gift_list)",
      "metadata": {
        "trusted": true
      },
      "execution_count": 15,
      "outputs": [
        {
          "name": "stdout",
          "text": "['socks', 'drone', 'laptop']\n",
          "output_type": "stream"
        }
      ]
    },
    {
      "cell_type": "markdown",
      "source": "***",
      "metadata": {}
    },
    {
      "cell_type": "markdown",
      "source": "### Exercise #8 - User input",
      "metadata": {}
    },
    {
      "cell_type": "markdown",
      "source": "Using input() ask for the users name",
      "metadata": {}
    },
    {
      "cell_type": "code",
      "source": "user_input = #Type your answer here.\n \nprint(\"Hello!, \" + user_input)",
      "metadata": {
        "trusted": true
      },
      "execution_count": 17,
      "outputs": [
        {
          "ename": "<class 'SyntaxError'>",
          "evalue": "invalid syntax (<ipython-input-17-f5c6973f298c>, line 1)",
          "traceback": [
            "\u001b[0;36m  Cell \u001b[0;32mIn[17], line 1\u001b[0;36m\u001b[0m\n\u001b[0;31m    user_input = #Type your answer here.\u001b[0m\n\u001b[0m                 ^\u001b[0m\n\u001b[0;31mSyntaxError\u001b[0m\u001b[0;31m:\u001b[0m invalid syntax\n"
          ],
          "output_type": "error"
        }
      ]
    },
    {
      "cell_type": "markdown",
      "source": "***",
      "metadata": {}
    },
    {
      "cell_type": "code",
      "source": "",
      "metadata": {},
      "execution_count": null,
      "outputs": []
    }
  ]
}